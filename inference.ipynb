{
 "cells": [
  {
   "cell_type": "code",
   "execution_count": null,
   "metadata": {},
   "outputs": [],
   "source": [
    "import json\n",
    "import keras\n",
    "import keras_nlp\n",
    "import pickle\n",
    "import tensorflow as tf"
   ]
  },
  {
   "cell_type": "code",
   "execution_count": null,
   "metadata": {},
   "outputs": [],
   "source": [
    "model_filepath = \"/kaggle/input/ann_model/keras/custom-model/1/custom_model.keras\"\n",
    "model = keras.models.load_model(model_filepath)"
   ]
  },
  {
   "cell_type": "code",
   "execution_count": null,
   "metadata": {},
   "outputs": [],
   "source": [
    "SEQ_LEN = 512  # Length of training sequences, in tokens. AKA the context size\n",
    "\n",
    "# Special tokens\n",
    "START_OF_RECIPE = \"<|recipe_start|>\"\n",
    "END_OF_RECIPE = \"<|recipe_end|>\"\n",
    "PAD = \"<|pad|>\"\n",
    "OOV = \"<|oov|>\"\n",
    "SPECIAL_TOKENS = [PAD, START_OF_RECIPE, END_OF_RECIPE, OOV]\n",
    "\n",
    "# File names\n",
    "VOCAB_FILE = \"vocab.pickle\""
   ]
  },
  {
   "cell_type": "code",
   "execution_count": null,
   "metadata": {},
   "outputs": [],
   "source": [
    "with open(VOCAB_FILE, \"rb\") as f:\n",
    "    vocab = pickle.load(f)\n",
    "\n",
    "tokenizer = keras_nlp.tokenizers.WordPieceTokenizer(\n",
    "    vocabulary=vocab,\n",
    "    sequence_length=SEQ_LEN,\n",
    "    special_tokens_in_strings=True,\n",
    "    special_tokens=SPECIAL_TOKENS,\n",
    "    oov_token=OOV,\n",
    ")\n",
    "\n",
    "packer = keras_nlp.layers.StartEndPacker(\n",
    "    sequence_length=SEQ_LEN,\n",
    "    start_value=tokenizer.token_to_id(START_OF_RECIPE),\n",
    "    end_value=tokenizer.token_to_id(END_OF_RECIPE),\n",
    "    pad_value=tokenizer.token_to_id(PAD),\n",
    ")\n"
   ]
  },
  {
   "cell_type": "code",
   "execution_count": null,
   "metadata": {},
   "outputs": [],
   "source": [
    "class TextGenerator():\n",
    "    def __init__(self, model, p):\n",
    "        self.model = model\n",
    "        self.sampler = keras_nlp.samplers.TopPSampler(p=p, k=1024)\n",
    "\n",
    "    def _tokenize_str(self, str):\n",
    "        return packer(tokenizer([str]))\n",
    "\n",
    "    def _next(self, prompt, cache, index):\n",
    "        logits = self.model(prompt)[:, index-1, :]\n",
    "        hidden_states = None,\n",
    "        return logits, hidden_states, cache\n",
    "    \n",
    "    def _normalize_output(self, txt):\n",
    "        txt = txt.split(END_OF_RECIPE)[0].split('}')[0]  + '}'\n",
    "        txt = txt.replace(START_OF_RECIPE, \"\").replace(PAD, \"\")\n",
    "        txt = txt.replace(OOV, \"\").replace(' \" ', '\"')\n",
    "        try:\n",
    "            txt = json.dumps(json.loads(txt), indent=4)\n",
    "        except Exception as _:\n",
    "            pass\n",
    "        return txt\n",
    "\n",
    "    def generate(self, seed_text, logs=None):\n",
    "        seed_tokens = self._tokenize_str(seed_text)\n",
    "        seed_length = tf.reduce_sum(tf.cast(~tf.equal(seed_tokens, 0), tf.int8)).numpy()\n",
    "        output_tokens = self.sampler(\n",
    "            next=self._next,\n",
    "            prompt=seed_tokens,\n",
    "            index=seed_length,\n",
    "        )\n",
    "        txt = tokenizer.detokenize(output_tokens).numpy()\n",
    "        txt = txt[0].decode(\"utf-8\")\n",
    "        txt = self._normalize_output(txt)\n",
    "        return txt\n",
    "    \n",
    "    def generate_recipe(self, ingredients):\n",
    "        if not ingredients: return self.generate('')\n",
    "        seed_text = '{\"ner\": ['\n",
    "        for ingredient in ingredients[:-1]:\n",
    "            seed_text += f'\"{ingredient}\", ' \n",
    "        seed_text += f'\"{ingredients[-1]}\",\"' if ingredients else ''\n",
    "        \n",
    "        return self.generate(seed_text)\n",
    "    \n",
    "text_generator = TextGenerator(model, 0.9)"
   ]
  },
  {
   "cell_type": "code",
   "execution_count": null,
   "metadata": {},
   "outputs": [],
   "source": []
  }
 ],
 "metadata": {
  "kernelspec": {
   "display_name": "ann_env",
   "language": "python",
   "name": "python3"
  },
  "language_info": {
   "codemirror_mode": {
    "name": "ipython",
    "version": 3
   },
   "file_extension": ".py",
   "mimetype": "text/x-python",
   "name": "python",
   "nbconvert_exporter": "python",
   "pygments_lexer": "ipython3",
   "version": "3.9.19"
  }
 },
 "nbformat": 4,
 "nbformat_minor": 2
}
