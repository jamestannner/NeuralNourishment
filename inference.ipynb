{
 "cells": [
  {
   "cell_type": "code",
   "execution_count": null,
   "metadata": {},
   "outputs": [],
   "source": [
    "import json\n",
    "import keras\n",
    "import keras_nlp\n",
    "import pickle\n",
    "import tensorflow as tf"
   ]
  },
  {
   "cell_type": "code",
   "execution_count": null,
   "metadata": {},
   "outputs": [],
   "source": [
    "# File names\n",
    "CUSTOM_MODEL = \"/content/custom_model.keras\"\n",
    "VOCAB_FILE = \"/content/vocab.pickle\"\n",
    "LORA_MODEL = \"/content/transfer_learning.lora.h5\"\n",
    "\n",
    "SEQ_LEN = 512  # Length of training sequences, in tokens. AKA the context size\n",
    "GPT2_PRESET = \"gpt2_base_en\" # name of base model\n",
    "\n",
    "# Special tokens\n",
    "START_OF_RECIPE = \"<|recipe_start|>\"\n",
    "END_OF_RECIPE = \"<|recipe_end|>\"\n",
    "PAD = \"<|pad|>\"\n",
    "OOV = \"<|oov|>\"\n",
    "SPECIAL_TOKENS = [PAD, START_OF_RECIPE, END_OF_RECIPE, OOV]"
   ]
  },
  {
   "cell_type": "markdown",
   "metadata": {},
   "source": [
    "# Generating recipes with the custom model"
   ]
  },
  {
   "cell_type": "code",
   "execution_count": null,
   "metadata": {},
   "outputs": [],
   "source": [
    "custom_model = keras.models.load_model(CUSTOM_MODEL)\n",
    "\n",
    "with open(VOCAB_FILE, \"rb\") as f:\n",
    "    vocab = pickle.load(f)\n",
    "\n",
    "custom_tokenizer = keras_nlp.tokenizers.WordPieceTokenizer(\n",
    "    vocabulary=vocab,\n",
    "    sequence_length=SEQ_LEN,\n",
    "    special_tokens_in_strings=True,\n",
    "    special_tokens=SPECIAL_TOKENS,\n",
    "    oov_token=OOV,\n",
    ")\n",
    "\n",
    "packer = keras_nlp.layers.StartEndPacker(\n",
    "    sequence_length=SEQ_LEN,\n",
    "    start_value=custom_tokenizer.token_to_id(START_OF_RECIPE),\n",
    "    end_value=custom_tokenizer.token_to_id(END_OF_RECIPE),\n",
    "    pad_value=custom_tokenizer.token_to_id(PAD),\n",
    ")\n",
    "custom_model.summary()"
   ]
  },
  {
   "cell_type": "code",
   "execution_count": null,
   "metadata": {},
   "outputs": [],
   "source": [
    "class CustomTextGenerator():\n",
    "    def __init__(self, model, p):\n",
    "        self.model = model\n",
    "        self.sampler = keras_nlp.samplers.TopPSampler(p=p, k=1024)\n",
    "\n",
    "    def _tokenize_str(self, str):\n",
    "        return packer(custom_tokenizer([str]))\n",
    "\n",
    "    def _next(self, prompt, cache, index):\n",
    "        logits = self.model(prompt)[:, index-1, :]\n",
    "        hidden_states = None,\n",
    "        return logits, hidden_states, cache\n",
    "    \n",
    "    def _normalize_output(self, txt):\n",
    "        txt = txt.split(END_OF_RECIPE)[0].split('}')[0]  + '}'\n",
    "        txt = txt.replace(START_OF_RECIPE, \"\").replace(PAD, \"\")\n",
    "        txt = txt.replace(OOV, \"\").replace(' \" ', '\"')\n",
    "        try:\n",
    "            txt = json.dumps(json.loads(txt), indent=4)\n",
    "        except Exception as _:\n",
    "            txt = \"Unable to parse as a JSON object\\n\" + txt\n",
    "        return txt\n",
    "\n",
    "    def generate(self, seed_text, logs=None):\n",
    "        seed_tokens = self._tokenize_str(seed_text)\n",
    "        seed_length = tf.reduce_sum(tf.cast(~tf.equal(seed_tokens, 0), tf.int8)).numpy()\n",
    "        output_tokens = self.sampler(\n",
    "            next=self._next,\n",
    "            prompt=seed_tokens,\n",
    "            index=seed_length,\n",
    "        )\n",
    "        txt = custom_tokenizer.detokenize(output_tokens).numpy()\n",
    "        txt = txt[0].decode(\"utf-8\")\n",
    "        txt = self._normalize_output(txt)\n",
    "        return txt\n",
    "    \n",
    "    def generate_recipe(self, ingredients):\n",
    "        seed_text = '{\"ner\": ['\n",
    "        for ingredient in ingredients[:-1]:\n",
    "            seed_text += f'\"{ingredient}\", ' \n",
    "        seed_text += f'\"{ingredients[-1]}\",\"' if ingredients else ''\n",
    "        \n",
    "        return self.generate(seed_text)\n",
    "    \n",
    "custom_generator = CustomTextGenerator(custom_model, 0.9)"
   ]
  },
  {
   "cell_type": "code",
   "execution_count": null,
   "metadata": {},
   "outputs": [],
   "source": [
    "seed_ingredients = [\"chicken\", \"tomato\", \"pasta\"]\n",
    "recipe = custom_generator.generate_recipe(seed_ingredients)\n",
    "print(recipe)"
   ]
  },
  {
   "cell_type": "markdown",
   "metadata": {},
   "source": [
    "# Generating recipes with fine-tuned GPT-2"
   ]
  },
  {
   "cell_type": "code",
   "execution_count": null,
   "metadata": {},
   "outputs": [],
   "source": [
    "preprocessor = keras_nlp.models.GPT2CausalLMPreprocessor.from_preset(\n",
    "    GPT2_PRESET,\n",
    "    sequence_length=SEQ_LEN,\n",
    ")\n",
    "lora_model = keras_nlp.models.GPT2CausalLM.from_preset(\n",
    "    GPT2_PRESET,\n",
    "    preprocessor=preprocessor,\n",
    ")\n",
    "lora_model.backbone.load_lora_weights(LORA_MODEL)\n",
    "lora_model.summary()"
   ]
  },
  {
   "cell_type": "code",
   "execution_count": null,
   "metadata": {},
   "outputs": [],
   "source": [
    "class LoRATextGenerator():\n",
    "  def __init__(self, model):\n",
    "    self.model = model\n",
    "\n",
    "  def _normalize_output(self, txt):\n",
    "    try:\n",
    "        txt = json.dumps(json.loads(txt), indent=4)\n",
    "    except Exception as _:\n",
    "        txt = \"Unable to parse as a JSON object\\n\" + txt\n",
    "    return txt\n",
    "\n",
    "  def generate(self, seed_text):\n",
    "    raw_output = self.model.generate(seed_text, max_length=SEQ_LEN)\n",
    "    output = self._normalize_output(raw_output)\n",
    "    return output\n",
    "\n",
    "  def generate_recipe(self, ingredients):\n",
    "    seed_text = '{\"ner\": ['\n",
    "    for ingredient in ingredients[:-1]:\n",
    "        seed_text += f'\"{ingredient}\", ' \n",
    "    seed_text += f'\"{ingredients[-1]}\",\"' if ingredients else ''\n",
    "\n",
    "    return self.generate(seed_text)\n",
    "\n",
    "lora_generator = LoRATextGenerator(lora_model)"
   ]
  },
  {
   "cell_type": "code",
   "execution_count": null,
   "metadata": {},
   "outputs": [],
   "source": [
    "lora_reicpe = lora_generator.generate_recipe(seed_ingredients)\n",
    "print(lora_reicpe)"
   ]
  },
  {
   "cell_type": "markdown",
   "metadata": {},
   "source": [
    "# Speed comparison"
   ]
  },
  {
   "cell_type": "code",
   "execution_count": null,
   "metadata": {},
   "outputs": [],
   "source": [
    "import time\n",
    "\n",
    "custom_start_time = time.time()\n",
    "custom_random_recipe = custom_generator.generate_recipe([])\n",
    "custom_end_time = time.time()\n",
    "lora_start_time = time.time()\n",
    "lora_random_recipe = lora_generator.generate_recipe([])\n",
    "lora_end_time = time.time()\n",
    "\n",
    "custom_time = custom_end_time - custom_start_time\n",
    "lora_time = lora_end_time - lora_start_time\n",
    "\n",
    "print(f\"Custom model took {custom_time:.2f} seconds to generate a recipe\")\n",
    "print(f\"LoRA model took   {lora_time:.2f} seconds to generate a recipe\")\n",
    "\n",
    "print(f\"\\nCustom model's output:\\n{custom_random_recipe}\")\n",
    "print(f\"\\nLoRA model's output:\\n{lora_random_recipe}\")"
   ]
  }
 ],
 "metadata": {
  "kernelspec": {
   "display_name": "ann_env",
   "language": "python",
   "name": "python3"
  },
  "language_info": {
   "codemirror_mode": {
    "name": "ipython",
    "version": 3
   },
   "file_extension": ".py",
   "mimetype": "text/x-python",
   "name": "python",
   "nbconvert_exporter": "python",
   "pygments_lexer": "ipython3",
   "version": "3.9.19"
  }
 },
 "nbformat": 4,
 "nbformat_minor": 2
}
