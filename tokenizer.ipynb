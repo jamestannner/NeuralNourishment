{
 "cells": [
  {
   "cell_type": "markdown",
   "metadata": {},
   "source": [
    "---\n",
    "**WordPiece tokenizer**\n",
    "\n",
    "We train a WordPiece tokenizer on our dataset and special tokens. Special tokens are used for denoting the beginning and end of recipes. Once trained, we can use the Keras `WordPieceTokenizer` to tokenize our tensors within the `tf.data` pipeline. The output token vocabulary is saved in `vocab.txt`"
   ]
  },
  {
   "cell_type": "code",
   "execution_count": 1,
   "metadata": {},
   "outputs": [
    {
     "name": "stdout",
     "output_type": "stream",
     "text": [
      "Using TensorFlow backend\n"
     ]
    }
   ],
   "source": [
    "import os\n",
    "os.environ[\"KERAS_BACKEND\"] = \"tensorflow\"\n",
    "\n",
    "import keras_nlp\n",
    "import pickle\n",
    "import tensorflow as tf\n",
    "import tensorflow.data as tf_data\n",
    "import tensorflow.strings as tf_strings\n",
    "import tensorflow.io as tf_io\n",
    "from constants import *"
   ]
  },
  {
   "cell_type": "code",
   "execution_count": 2,
   "metadata": {},
   "outputs": [],
   "source": [
    "# Format and prepare dataset\n",
    "def csv_row_to_json(row):\n",
    "    row = tf_io.decode_csv(records=row, record_defaults=[tf.constant([],dtype=tf.string)] * 7)\n",
    "    \n",
    "    title = row[1]\n",
    "    ingredients = row[2]\n",
    "    directions = row[3]\n",
    "    ner = row[6]\n",
    "\n",
    "    return tf_strings.join([\n",
    "        '{\"ner\": ', ner, ', ',\n",
    "        '\"title\": \"', title, '\", ',\n",
    "        '\"ingredients\": ', ingredients, ', ',\n",
    "        '\"directions\": ', directions, '}',\n",
    "    ])\n",
    "\n",
    "dataset = (\n",
    "    tf_data.TextLineDataset(\"RecipeNLG/RecipeNLG_dataset.csv\") # load the csv file line by line\n",
    "    .skip(1) # skip the header row\n",
    "    .shuffle(buffer_size=256) # store 256 shuffled records in memory at a time before reshuffling and refetching\n",
    "    .map(lambda row: csv_row_to_json(row)) # map each row of the csv to a jsonified recipe\n",
    "    .apply(tf.data.experimental.ignore_errors()) # ignore any errors in the csv file\n",
    "    .batch(BATCH_SIZE) # batch the dataset to train on multiple records at once\n",
    ")"
   ]
  },
  {
   "cell_type": "code",
   "execution_count": 3,
   "metadata": {},
   "outputs": [
    {
     "name": "stderr",
     "output_type": "stream",
     "text": [
      "2024-04-26 12:51:24.847811: W tensorflow/core/platform/profile_utils/cpu_utils.cc:128] Failed to get CPU frequency: 0 Hz\n"
     ]
    }
   ],
   "source": [
    "# train the tokenizer\n",
    "vocab = keras_nlp.tokenizers.compute_word_piece_vocabulary(\n",
    "    data=dataset,\n",
    "    vocabulary_size=VOCAB_SIZE,\n",
    "    reserved_tokens=SPECIAL_TOKENS,\n",
    ")"
   ]
  },
  {
   "cell_type": "code",
   "execution_count": 4,
   "metadata": {},
   "outputs": [],
   "source": [
    "# save the tokenizer vocabulary\n",
    "with open(VOCAB_FILE, 'wb') as f:\n",
    "    pickle.dump(vocab, f)"
   ]
  }
 ],
 "metadata": {
  "kernelspec": {
   "display_name": "ann_env",
   "language": "python",
   "name": "python3"
  },
  "language_info": {
   "codemirror_mode": {
    "name": "ipython",
    "version": 3
   },
   "file_extension": ".py",
   "mimetype": "text/x-python",
   "name": "python",
   "nbconvert_exporter": "python",
   "pygments_lexer": "ipython3",
   "version": "3.9.19"
  }
 },
 "nbformat": 4,
 "nbformat_minor": 2
}
