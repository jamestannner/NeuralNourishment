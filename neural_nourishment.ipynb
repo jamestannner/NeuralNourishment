{
 "cells": [
  {
   "cell_type": "code",
   "execution_count": 8,
   "metadata": {},
   "outputs": [],
   "source": [
    "import json\n",
    "import numpy as np\n",
    "import pandas as pd\n",
    "import tiktoken\n",
    "from sklearn.model_selection import train_test_split\n",
    "from tensorflow.keras.models import Sequential\n",
    "from tensorflow.keras.layers import LSTM, Dense\n",
    "from tensorflow.keras.utils import to_categorical"
   ]
  },
  {
   "cell_type": "code",
   "execution_count": 3,
   "metadata": {},
   "outputs": [
    {
     "name": "stdout",
     "output_type": "stream",
     "text": [
      "df size before: 2231142\n"
     ]
    },
    {
     "data": {
      "text/html": [
       "<div>\n",
       "<style scoped>\n",
       "    .dataframe tbody tr th:only-of-type {\n",
       "        vertical-align: middle;\n",
       "    }\n",
       "\n",
       "    .dataframe tbody tr th {\n",
       "        vertical-align: top;\n",
       "    }\n",
       "\n",
       "    .dataframe thead th {\n",
       "        text-align: right;\n",
       "    }\n",
       "</style>\n",
       "<table border=\"1\" class=\"dataframe\">\n",
       "  <thead>\n",
       "    <tr style=\"text-align: right;\">\n",
       "      <th></th>\n",
       "      <th>Unnamed: 0</th>\n",
       "      <th>title</th>\n",
       "      <th>ingredients</th>\n",
       "      <th>directions</th>\n",
       "      <th>link</th>\n",
       "      <th>source</th>\n",
       "      <th>NER</th>\n",
       "    </tr>\n",
       "  </thead>\n",
       "  <tbody>\n",
       "    <tr>\n",
       "      <th>0</th>\n",
       "      <td>0</td>\n",
       "      <td>No-Bake Nut Cookies</td>\n",
       "      <td>[\"1 c. firmly packed brown sugar\", \"1/2 c. eva...</td>\n",
       "      <td>[\"In a heavy 2-quart saucepan, mix brown sugar...</td>\n",
       "      <td>www.cookbooks.com/Recipe-Details.aspx?id=44874</td>\n",
       "      <td>Gathered</td>\n",
       "      <td>[\"brown sugar\", \"milk\", \"vanilla\", \"nuts\", \"bu...</td>\n",
       "    </tr>\n",
       "    <tr>\n",
       "      <th>1</th>\n",
       "      <td>1</td>\n",
       "      <td>Jewell Ball'S Chicken</td>\n",
       "      <td>[\"1 small jar chipped beef, cut up\", \"4 boned ...</td>\n",
       "      <td>[\"Place chipped beef on bottom of baking dish....</td>\n",
       "      <td>www.cookbooks.com/Recipe-Details.aspx?id=699419</td>\n",
       "      <td>Gathered</td>\n",
       "      <td>[\"beef\", \"chicken breasts\", \"cream of mushroom...</td>\n",
       "    </tr>\n",
       "    <tr>\n",
       "      <th>2</th>\n",
       "      <td>2</td>\n",
       "      <td>Creamy Corn</td>\n",
       "      <td>[\"2 (16 oz.) pkg. frozen corn\", \"1 (8 oz.) pkg...</td>\n",
       "      <td>[\"In a slow cooker, combine all ingredients. C...</td>\n",
       "      <td>www.cookbooks.com/Recipe-Details.aspx?id=10570</td>\n",
       "      <td>Gathered</td>\n",
       "      <td>[\"frozen corn\", \"cream cheese\", \"butter\", \"gar...</td>\n",
       "    </tr>\n",
       "    <tr>\n",
       "      <th>3</th>\n",
       "      <td>3</td>\n",
       "      <td>Chicken Funny</td>\n",
       "      <td>[\"1 large whole chicken\", \"2 (10 1/2 oz.) cans...</td>\n",
       "      <td>[\"Boil and debone chicken.\", \"Put bite size pi...</td>\n",
       "      <td>www.cookbooks.com/Recipe-Details.aspx?id=897570</td>\n",
       "      <td>Gathered</td>\n",
       "      <td>[\"chicken\", \"chicken gravy\", \"cream of mushroo...</td>\n",
       "    </tr>\n",
       "    <tr>\n",
       "      <th>4</th>\n",
       "      <td>4</td>\n",
       "      <td>Reeses Cups(Candy)</td>\n",
       "      <td>[\"1 c. peanut butter\", \"3/4 c. graham cracker ...</td>\n",
       "      <td>[\"Combine first four ingredients and press in ...</td>\n",
       "      <td>www.cookbooks.com/Recipe-Details.aspx?id=659239</td>\n",
       "      <td>Gathered</td>\n",
       "      <td>[\"peanut butter\", \"graham cracker crumbs\", \"bu...</td>\n",
       "    </tr>\n",
       "  </tbody>\n",
       "</table>\n",
       "</div>"
      ],
      "text/plain": [
       "   Unnamed: 0                  title  \\\n",
       "0           0    No-Bake Nut Cookies   \n",
       "1           1  Jewell Ball'S Chicken   \n",
       "2           2            Creamy Corn   \n",
       "3           3          Chicken Funny   \n",
       "4           4   Reeses Cups(Candy)     \n",
       "\n",
       "                                         ingredients  \\\n",
       "0  [\"1 c. firmly packed brown sugar\", \"1/2 c. eva...   \n",
       "1  [\"1 small jar chipped beef, cut up\", \"4 boned ...   \n",
       "2  [\"2 (16 oz.) pkg. frozen corn\", \"1 (8 oz.) pkg...   \n",
       "3  [\"1 large whole chicken\", \"2 (10 1/2 oz.) cans...   \n",
       "4  [\"1 c. peanut butter\", \"3/4 c. graham cracker ...   \n",
       "\n",
       "                                          directions  \\\n",
       "0  [\"In a heavy 2-quart saucepan, mix brown sugar...   \n",
       "1  [\"Place chipped beef on bottom of baking dish....   \n",
       "2  [\"In a slow cooker, combine all ingredients. C...   \n",
       "3  [\"Boil and debone chicken.\", \"Put bite size pi...   \n",
       "4  [\"Combine first four ingredients and press in ...   \n",
       "\n",
       "                                              link    source  \\\n",
       "0   www.cookbooks.com/Recipe-Details.aspx?id=44874  Gathered   \n",
       "1  www.cookbooks.com/Recipe-Details.aspx?id=699419  Gathered   \n",
       "2   www.cookbooks.com/Recipe-Details.aspx?id=10570  Gathered   \n",
       "3  www.cookbooks.com/Recipe-Details.aspx?id=897570  Gathered   \n",
       "4  www.cookbooks.com/Recipe-Details.aspx?id=659239  Gathered   \n",
       "\n",
       "                                                 NER  \n",
       "0  [\"brown sugar\", \"milk\", \"vanilla\", \"nuts\", \"bu...  \n",
       "1  [\"beef\", \"chicken breasts\", \"cream of mushroom...  \n",
       "2  [\"frozen corn\", \"cream cheese\", \"butter\", \"gar...  \n",
       "3  [\"chicken\", \"chicken gravy\", \"cream of mushroo...  \n",
       "4  [\"peanut butter\", \"graham cracker crumbs\", \"bu...  "
      ]
     },
     "execution_count": 3,
     "metadata": {},
     "output_type": "execute_result"
    }
   ],
   "source": [
    "df = pd.read_csv('RecipeNLG/RecipeNLG_dataset.csv')\n",
    "print(f'df size before: {len(df)}')\n",
    "df.head()"
   ]
  },
  {
   "cell_type": "code",
   "execution_count": 4,
   "metadata": {},
   "outputs": [
    {
     "name": "stdout",
     "output_type": "stream",
     "text": [
      "df size without cookbooks.com: 1334801\n",
      "df size without allrecipes.com: 1273403\n"
     ]
    },
    {
     "data": {
      "text/html": [
       "<div>\n",
       "<style scoped>\n",
       "    .dataframe tbody tr th:only-of-type {\n",
       "        vertical-align: middle;\n",
       "    }\n",
       "\n",
       "    .dataframe tbody tr th {\n",
       "        vertical-align: top;\n",
       "    }\n",
       "\n",
       "    .dataframe thead th {\n",
       "        text-align: right;\n",
       "    }\n",
       "</style>\n",
       "<table border=\"1\" class=\"dataframe\">\n",
       "  <thead>\n",
       "    <tr style=\"text-align: right;\">\n",
       "      <th></th>\n",
       "      <th>Unnamed: 0</th>\n",
       "      <th>title</th>\n",
       "      <th>ingredients</th>\n",
       "      <th>directions</th>\n",
       "      <th>link</th>\n",
       "      <th>source</th>\n",
       "      <th>NER</th>\n",
       "    </tr>\n",
       "  </thead>\n",
       "  <tbody>\n",
       "    <tr>\n",
       "      <th>957739</th>\n",
       "      <td>957739</td>\n",
       "      <td>Kale Carrot And Apple Calcium Booster Juice Fo...</td>\n",
       "      <td>[\"2 kale leaves\", \"2 celery ribs\", \"1/3 cup pa...</td>\n",
       "      <td>[\"Wash and cut each vegetable and feed through...</td>\n",
       "      <td>www.food.com/recipe/kale-carrot-and-apple-calc...</td>\n",
       "      <td>Gathered</td>\n",
       "      <td>[\"kale leaves\", \"celery\", \"parsley\", \"carrots\"...</td>\n",
       "    </tr>\n",
       "    <tr>\n",
       "      <th>957740</th>\n",
       "      <td>957740</td>\n",
       "      <td>Chocolade Pudding - Chocolate Pudding</td>\n",
       "      <td>[\"1 cup milk\", \"1 ounce chocolate\", \"1/2 cup s...</td>\n",
       "      <td>[\"Heat milk with chocolate in the top of a dou...</td>\n",
       "      <td>www.food.com/recipe/chocolade-pudding-chocolat...</td>\n",
       "      <td>Gathered</td>\n",
       "      <td>[\"milk\", \"chocolate\", \"sugar\", \"salt\", \"cornst...</td>\n",
       "    </tr>\n",
       "    <tr>\n",
       "      <th>957741</th>\n",
       "      <td>957741</td>\n",
       "      <td>Haluski</td>\n",
       "      <td>[\"1 cabbage, green, core removed and leaves se...</td>\n",
       "      <td>[\"Bring a large pot of water to a boil. Add th...</td>\n",
       "      <td>www.food.com/recipe/haluski-407129</td>\n",
       "      <td>Gathered</td>\n",
       "      <td>[\"cabbage\", \"butter\", \"onions\", \"salt\", \"bacon...</td>\n",
       "    </tr>\n",
       "    <tr>\n",
       "      <th>957742</th>\n",
       "      <td>957742</td>\n",
       "      <td>Cajun Style White Bean Soup</td>\n",
       "      <td>[\"8 ounces great northern beans\", \"water, to c...</td>\n",
       "      <td>[\"Put rinsed beans, in a 4 quart dutch oven an...</td>\n",
       "      <td>www.food.com/recipe/cajun-style-white-bean-sou...</td>\n",
       "      <td>Gathered</td>\n",
       "      <td>[\"beans\", \"water\", \"water\", \"tomatoes\", \"ham\",...</td>\n",
       "    </tr>\n",
       "    <tr>\n",
       "      <th>957743</th>\n",
       "      <td>957743</td>\n",
       "      <td>Toddler Tamer Tea</td>\n",
       "      <td>[\"1 chamomile tea bag\", \"2 tablespoons honey\",...</td>\n",
       "      <td>[\"Place the tea bag in a microwave safe cup.\",...</td>\n",
       "      <td>www.food.com/recipe/toddler-tamer-tea-188781</td>\n",
       "      <td>Gathered</td>\n",
       "      <td>[\"honey\", \"water\", \"cold milk\"]</td>\n",
       "    </tr>\n",
       "  </tbody>\n",
       "</table>\n",
       "</div>"
      ],
      "text/plain": [
       "        Unnamed: 0                                              title  \\\n",
       "957739      957739  Kale Carrot And Apple Calcium Booster Juice Fo...   \n",
       "957740      957740              Chocolade Pudding - Chocolate Pudding   \n",
       "957741      957741                                            Haluski   \n",
       "957742      957742                        Cajun Style White Bean Soup   \n",
       "957743      957743                                  Toddler Tamer Tea   \n",
       "\n",
       "                                              ingredients  \\\n",
       "957739  [\"2 kale leaves\", \"2 celery ribs\", \"1/3 cup pa...   \n",
       "957740  [\"1 cup milk\", \"1 ounce chocolate\", \"1/2 cup s...   \n",
       "957741  [\"1 cabbage, green, core removed and leaves se...   \n",
       "957742  [\"8 ounces great northern beans\", \"water, to c...   \n",
       "957743  [\"1 chamomile tea bag\", \"2 tablespoons honey\",...   \n",
       "\n",
       "                                               directions  \\\n",
       "957739  [\"Wash and cut each vegetable and feed through...   \n",
       "957740  [\"Heat milk with chocolate in the top of a dou...   \n",
       "957741  [\"Bring a large pot of water to a boil. Add th...   \n",
       "957742  [\"Put rinsed beans, in a 4 quart dutch oven an...   \n",
       "957743  [\"Place the tea bag in a microwave safe cup.\",...   \n",
       "\n",
       "                                                     link    source  \\\n",
       "957739  www.food.com/recipe/kale-carrot-and-apple-calc...  Gathered   \n",
       "957740  www.food.com/recipe/chocolade-pudding-chocolat...  Gathered   \n",
       "957741                 www.food.com/recipe/haluski-407129  Gathered   \n",
       "957742  www.food.com/recipe/cajun-style-white-bean-sou...  Gathered   \n",
       "957743       www.food.com/recipe/toddler-tamer-tea-188781  Gathered   \n",
       "\n",
       "                                                      NER  \n",
       "957739  [\"kale leaves\", \"celery\", \"parsley\", \"carrots\"...  \n",
       "957740  [\"milk\", \"chocolate\", \"sugar\", \"salt\", \"cornst...  \n",
       "957741  [\"cabbage\", \"butter\", \"onions\", \"salt\", \"bacon...  \n",
       "957742  [\"beans\", \"water\", \"water\", \"tomatoes\", \"ham\",...  \n",
       "957743                    [\"honey\", \"water\", \"cold milk\"]  "
      ]
     },
     "execution_count": 4,
     "metadata": {},
     "output_type": "execute_result"
    }
   ],
   "source": [
    "df = df[~df['link'].str.contains('www.cookbooks.com')]\n",
    "print(f'df size without cookbooks.com: {len(df)}')\n",
    "df = df[~df['link'].str.contains('www.allrecipes.com')]\n",
    "print(f'df size without allrecipes.com: {len(df)}')\n",
    "df.head()"
   ]
  },
  {
   "cell_type": "code",
   "execution_count": 5,
   "metadata": {},
   "outputs": [],
   "source": [
    "def stringify_recipe(recipe):\n",
    "    title = recipe['title']\n",
    "    ingredients = eval(recipe['ingredients'])\n",
    "    directions = eval(recipe['directions'])\n",
    "    ner = eval(recipe['NER'])\n",
    "\n",
    "    return json.dumps({\n",
    "        'ner': ner,\n",
    "        'title': title,\n",
    "        'ingredients': ingredients,\n",
    "        'directions': directions,\n",
    "    })\n",
    "\n",
    "jsonified_recipes = df.apply(stringify_recipe, axis=1)"
   ]
  },
  {
   "cell_type": "code",
   "execution_count": 6,
   "metadata": {},
   "outputs": [
    {
     "name": "stdout",
     "output_type": "stream",
     "text": [
      "<class 'str'>\n",
      "{\n",
      "   \"ner\": [\n",
      "      \"kale leaves\",\n",
      "      \"celery\",\n",
      "      \"parsley\",\n",
      "      \"carrots\",\n",
      "      \"apple\"\n",
      "   ],\n",
      "   \"title\": \"Kale Carrot And Apple Calcium Booster Juice For Juicer\",\n",
      "   \"ingredients\": [\n",
      "      \"2 kale leaves\",\n",
      "      \"2 celery ribs\",\n",
      "      \"1/3 cup parsley\",\n",
      "      \"3 carrots\",\n",
      "      \"1 apple, seeds and stem removed\"\n",
      "   ],\n",
      "   \"directions\": [\n",
      "      \"Wash and cut each vegetable and feed through the mouth of a juicer one at a time.\"\n",
      "   ]\n",
      "}\n",
      "\n",
      "<class 'str'>\n",
      "{\n",
      "   \"ner\": [\n",
      "      \"milk\",\n",
      "      \"chocolate\",\n",
      "      \"sugar\",\n",
      "      \"salt\",\n",
      "      \"cornstarch\",\n",
      "      \"cocoa\",\n",
      "      \"butter\",\n",
      "      \"vanilla\"\n",
      "   ],\n",
      "   \"title\": \"Chocolade Pudding - Chocolate Pudding\",\n",
      "   \"ingredients\": [\n",
      "      \"1 cup milk\",\n",
      "      \"1 ounce chocolate\",\n",
      "      \"1/2 cup sugar\",\n",
      "      \"1/8 teaspoon salt\",\n",
      "      \"1 tablespoon cornstarch\",\n",
      "      \"2 tablespoons cocoa\",\n",
      "      \"1 tablespoon butter (no substitutions)\",\n",
      "      \"1/4 teaspoon vanilla\"\n",
      "   ],\n",
      "   \"directions\": [\n",
      "      \"Heat milk with chocolate in the top of a double boiler, beating well when chocolate has melted.\",\n",
      "      \"Mix sugar, salt, cornstarch and cocoa; blend with a little of the chocolate milk.\",\n",
      "      \"Return to the double boiler and cook until thickened, stirring constantly.\",\n",
      "      \"Add butter, cool and add vanilla.\",\n",
      "      \"Serve with lightly sweetened whipped cream.\"\n",
      "   ]\n",
      "}\n",
      "\n"
     ]
    }
   ],
   "source": [
    "for r in jsonified_recipes[:2]:\n",
    "    print(type(r))\n",
    "    print(json.dumps(json.loads(r), indent=3))\n",
    "    print()"
   ]
  },
  {
   "cell_type": "code",
   "execution_count": 26,
   "metadata": {},
   "outputs": [
    {
     "name": "stdout",
     "output_type": "stream",
     "text": [
      "4021\n"
     ]
    }
   ],
   "source": [
    "enc = tiktoken.get_encoding(\"cl100k_base\")\n",
    "\n",
    "encoded_recipes = [np.array(enc.encode(r)) for r in jsonified_recipes]"
   ]
  },
  {
   "cell_type": "code",
   "execution_count": 27,
   "metadata": {},
   "outputs": [
    {
     "name": "stdout",
     "output_type": "stream",
     "text": [
      "4021\n"
     ]
    }
   ],
   "source": [
    "max_recipe_length = max([len(encoded_recipe) for encoded_recipe in encoded_recipes])\n",
    "print(max_recipe_length)"
   ]
  },
  {
   "cell_type": "code",
   "execution_count": null,
   "metadata": {},
   "outputs": [],
   "source": [
    "X = np.zeros((len(encoded_recipes), max_recipe_length))\n",
    "for i, recipe in enumerate(encoded_recipes):\n",
    "    X[i][:len(recipe)] = recipe\n",
    "\n",
    "Y = np.zeros((len(encoded_recipes), max_recipe_length))"
   ]
  },
  {
   "cell_type": "code",
   "execution_count": 12,
   "metadata": {},
   "outputs": [
    {
     "name": "stdout",
     "output_type": "stream",
     "text": [
      "{\"ner\": [\"kale leaves\", \"celery\", \"parsley\", \"carrots\", \"apple\"], \"title\": \"Kale Carrot And Apple Calcium Booster Juice For Juicer\", \"ingredients\": [\"2 kale leaves\", \"2 celery ribs\", \"1/3 cup parsley\", \"3 carrots\", \"1 apple, seeds and stem removed\"], \"directions\": [\"Wash and cut each vegetable and feed through the mouth of a juicer one at a time.\"]}\n",
      "[5018, 1215, 794, 4482, 74, 1604, 11141, 498, 330, 3757, 727, 498, 330, 73480, 3258, 498, 330, 7063, 90329, 498, 330, 23182, 8073, 330, 2150, 794, 330, 42, 1604, 3341, 4744, 1628, 8325, 96104, 75292, 66851, 1789, 22410, 13296, 498, 330, 39220, 794, 4482, 17, 63577, 11141, 498, 330, 17, 70121, 56249, 498, 330, 16, 14, 18, 10747, 88621, 498, 330, 18, 62517, 498, 330, 16, 24149, 11, 19595, 323, 19646, 7108, 8073, 330, 19612, 82, 794, 4482, 54, 1003, 323, 4018, 1855, 36581, 323, 5510, 1555, 279, 11013, 315, 264, 10479, 13296, 832, 520, 264, 892, 1210, 14316]\n",
      "{\"ner\": [\"kale leaves\", \"celery\", \"parsley\", \"carrots\", \"apple\"], \"title\": \"Kale Carrot And Apple Calcium Booster Juice For Juicer\", \"ingredients\": [\"2 kale leaves\", \"2 celery ribs\", \"1/3 cup parsley\", \"3 carrots\", \"1 apple, seeds and stem removed\"], \"directions\": [\"Wash and cut each vegetable and feed through the mouth of a juicer one at a time.\"]}\n",
      "\n",
      "{\"ner\": [\"milk\", \"chocolate\", \"sugar\", \"salt\", \"cornstarch\", \"cocoa\", \"butter\", \"vanilla\"], \"title\": \"Chocolade Pudding - Chocolate Pudding\", \"ingredients\": [\"1 cup milk\", \"1 ounce chocolate\", \"1/2 cup sugar\", \"1/8 teaspoon salt\", \"1 tablespoon cornstarch\", \"2 tablespoons cocoa\", \"1 tablespoon butter (no substitutions)\", \"1/4 teaspoon vanilla\"], \"directions\": [\"Heat milk with chocolate in the top of a double boiler, beating well when chocolate has melted.\", \"Mix sugar, salt, cornstarch and cocoa; blend with a little of the chocolate milk.\", \"Return to the double boiler and cook until thickened, stirring constantly.\", \"Add butter, cool and add vanilla.\", \"Serve with lightly sweetened whipped cream.\"]}\n",
      "[5018, 1215, 794, 4482, 76, 34263, 498, 330, 331, 14136, 498, 330, 82, 8734, 498, 330, 43326, 498, 330, 39730, 267, 1132, 498, 330, 66, 34402, 498, 330, 65, 6339, 498, 330, 16023, 6374, 8073, 330, 2150, 794, 330, 1163, 4650, 1037, 393, 8512, 287, 482, 39520, 393, 8512, 287, 498, 330, 39220, 794, 4482, 16, 10747, 14403, 498, 330, 16, 54808, 18414, 498, 330, 16, 14, 17, 10747, 13465, 498, 330, 16, 14, 23, 42384, 12290, 498, 330, 16, 62611, 14095, 267, 1132, 498, 330, 17, 56588, 62888, 498, 330, 16, 62611, 14432, 320, 2201, 94750, 11844, 330, 16, 14, 19, 42384, 33165, 8073, 330, 19612, 82, 794, 4482, 62406, 14403, 449, 18414, 304, 279, 1948, 315, 264, 2033, 28725, 11, 27242, 1664, 994, 18414, 706, 50459, 10684, 330, 59183, 13465, 11, 12290, 11, 14095, 267, 1132, 323, 62888, 26, 20955, 449, 264, 2697, 315, 279, 18414, 14403, 10684, 330, 5715, 311, 279, 2033, 28725, 323, 4394, 3156, 12314, 6901, 11, 55054, 15320, 10684, 330, 2261, 14432, 11, 7155, 323, 923, 33165, 10684, 330, 61521, 449, 34504, 10437, 6901, 64357, 12932, 1210, 14316]\n",
      "{\"ner\": [\"milk\", \"chocolate\", \"sugar\", \"salt\", \"cornstarch\", \"cocoa\", \"butter\", \"vanilla\"], \"title\": \"Chocolade Pudding - Chocolate Pudding\", \"ingredients\": [\"1 cup milk\", \"1 ounce chocolate\", \"1/2 cup sugar\", \"1/8 teaspoon salt\", \"1 tablespoon cornstarch\", \"2 tablespoons cocoa\", \"1 tablespoon butter (no substitutions)\", \"1/4 teaspoon vanilla\"], \"directions\": [\"Heat milk with chocolate in the top of a double boiler, beating well when chocolate has melted.\", \"Mix sugar, salt, cornstarch and cocoa; blend with a little of the chocolate milk.\", \"Return to the double boiler and cook until thickened, stirring constantly.\", \"Add butter, cool and add vanilla.\", \"Serve with lightly sweetened whipped cream.\"]}\n",
      "\n"
     ]
    }
   ],
   "source": [
    "for recipe in jsonified_recipes[:2]:\n",
    "    print(recipe)\n",
    "    encoded_recipe = enc.encode(recipe)\n",
    "    print(encoded_recipe)\n",
    "    print(enc.decode(encoded_recipe))\n",
    "    print()\n",
    "    for i, token in enumerate(encoded_recipe):\n",
    "        continue\n",
    "\n",
    "# for i in range(len(all_text) - seq_length):\n",
    "#     seq_in = all_text[i:i + seq_length]\n",
    "#     seq_out = all_text[i + seq_length]\n",
    "#     dataX.append([char_to_int[char] for char in seq_in])\n",
    "#     dataY.append(char_to_int[seq_out])\n",
    "# n_patterns = len(dataX)\n",
    "# X = np.reshape(dataX, (n_patterns, seq_length, 1)) / float(len(chars))\n",
    "# y = to_categorical(dataY)"
   ]
  },
  {
   "cell_type": "code",
   "execution_count": null,
   "metadata": {},
   "outputs": [],
   "source": [
    "model = Sequential()\n",
    "model.add(LSTM(256, input_shape=(X.shape[1], X.shape[2])))\n",
    "model.add(Dense(y.shape[1], activation='softmax'))\n",
    "model.compile(loss='categorical_crossentropy', optimizer='adam')\n",
    "model.summary()\n",
    "model.save('neural_nourishment.keras')"
   ]
  },
  {
   "cell_type": "code",
   "execution_count": null,
   "metadata": {},
   "outputs": [],
   "source": [
    "X_train, X_test, y_train, y_test = train_test_split(X, y, test_size=0.2, random_state=42)\n",
    "\n",
    "model.fit(X_train, y_train, epochs=15, batch_size=128, validation_data=(X_test, y_test))"
   ]
  }
 ],
 "metadata": {
  "kernelspec": {
   "display_name": "ann_env",
   "language": "python",
   "name": "python3"
  },
  "language_info": {
   "codemirror_mode": {
    "name": "ipython",
    "version": 3
   },
   "file_extension": ".py",
   "mimetype": "text/x-python",
   "name": "python",
   "nbconvert_exporter": "python",
   "pygments_lexer": "ipython3",
   "version": "3.11.7"
  }
 },
 "nbformat": 4,
 "nbformat_minor": 2
}
