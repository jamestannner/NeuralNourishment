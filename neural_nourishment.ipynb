{
 "cells": [
  {
   "cell_type": "code",
   "execution_count": 1,
   "metadata": {},
   "outputs": [
    {
     "name": "stderr",
     "output_type": "stream",
     "text": [
      "/var/folders/f7/rj25pgt9633b5l67d28kqtpm0000gn/T/ipykernel_13168/3227746735.py:3: DeprecationWarning: \n",
      "Pyarrow will become a required dependency of pandas in the next major release of pandas (pandas 3.0),\n",
      "(to allow more performant data types, such as the Arrow string type, and better interoperability with other libraries)\n",
      "but was not found to be installed on your system.\n",
      "If this would cause problems for you,\n",
      "please provide us feedback at https://github.com/pandas-dev/pandas/issues/54466\n",
      "        \n",
      "  import pandas as pd\n"
     ]
    }
   ],
   "source": [
    "import json\n",
    "import numpy as np\n",
    "import pandas as pd\n",
    "import tiktoken\n",
    "from sklearn.model_selection import train_test_split\n",
    "from tensorflow.keras.layers import LSTM, Dense\n",
    "from tensorflow.keras.models import Sequential\n",
    "from tensorflow.keras.utils import to_categorical"
   ]
  },
  {
   "cell_type": "code",
   "execution_count": 2,
   "metadata": {},
   "outputs": [],
   "source": [
    "# Set to True when ready to run the full model, to speed up debugging we can operate on a subset.\n",
    "DEBUG = True\n",
    "\n",
    "# Set to True to print information as the code runs. Automatically set to False if DEBUG is False. Override at your own risk\n",
    "VERBOSE = True \n",
    "if not DEBUG: VERBOSE = False\n",
    "\n",
    "def print(*args, **kwargs):\n",
    "    if VERBOSE:\n",
    "        __builtins__.print(*args, **kwargs)"
   ]
  },
  {
   "cell_type": "code",
   "execution_count": 3,
   "metadata": {},
   "outputs": [
    {
     "name": "stdout",
     "output_type": "stream",
     "text": [
      "df size before: 2231142\n"
     ]
    }
   ],
   "source": [
    "df = pd.read_csv('RecipeNLG/RecipeNLG_dataset.csv')\n",
    "print(f'df size before: {len(df)}')\n",
    "if VERBOSE: df.head()"
   ]
  },
  {
   "cell_type": "code",
   "execution_count": 4,
   "metadata": {},
   "outputs": [
    {
     "name": "stdout",
     "output_type": "stream",
     "text": [
      "df size without cookbooks.com: 1334801\n",
      "df size without allrecipes.com: 1273403\n"
     ]
    }
   ],
   "source": [
    "df = df[~df['link'].str.contains('www.cookbooks.com')]\n",
    "print(f'df size without cookbooks.com: {len(df)}')\n",
    "df = df[~df['link'].str.contains('www.allrecipes.com')]\n",
    "print(f'df size without allrecipes.com: {len(df)}')\n",
    "if DEBUG: df = df.sample(1000)\n",
    "\n",
    "if VERBOSE: df.head()\n"
   ]
  },
  {
   "cell_type": "code",
   "execution_count": 5,
   "metadata": {},
   "outputs": [],
   "source": [
    "START_OF_RECIPE = \"<|recipe_start|>\"\n",
    "END_OF_RECIPE = \"<|recipe_end|>\"\n",
    "\n",
    "def stringify_recipe(recipe):\n",
    "    title = recipe['title']\n",
    "    ingredients = eval(recipe['ingredients'])\n",
    "    directions = eval(recipe['directions'])\n",
    "    ner = eval(recipe['NER'])\n",
    "\n",
    "    stringified_recipe = json.dumps({\n",
    "        'ner': ner,\n",
    "        'title': title,\n",
    "        'ingredients': ingredients,\n",
    "        'directions': directions,\n",
    "    })\n",
    "    return START_OF_RECIPE + stringified_recipe + END_OF_RECIPE\n",
    "\n",
    "stringified_recipes = df.apply(stringify_recipe, axis=1)"
   ]
  },
  {
   "cell_type": "code",
   "execution_count": 6,
   "metadata": {},
   "outputs": [
    {
     "name": "stdout",
     "output_type": "stream",
     "text": [
      "<class 'numpy.ndarray'> (322154,)\n",
      "[  100264  ,   5018  ,   1215  ,   794  ,   4482  ,   5755  ,   498  ,   330  ,   4071  ,   466  ,   498  ,   330  ,   46  ,   25859  ,   15895  ,   498  ,   330  ,   45030  ,   416  ,   498  ,   330  ,   47  ,   1590  ,   3258  ,   3061  ,   2094  ,   498  ,   330  ,   41211  ,   63524  ,   45419  ,   498  ,   330  ,   44  ,   9700  ,   89  ,   76031  ,   45419  ,   8073  ,   330  ,   2150  ,   794  ,   330  ,   31631  ,   54424  ,   8602  ,   65741  ,   95825  ,   386  ,   1386  ,   1354  ,   498  ,   330  ,   39220  ,   794  ,   4482  ,   16  ,   4459  ,   26371  ,   1789  ,   35918  ,   90395  ,   320  ,   40  ,   5560  ,   3092  ,   40745  ,   38091  ,   6207  ,   763  ,   3092  ,   26371  ,   8425  ,   11844  ,   330  ,   23  ,   6771  ,   2203  ,   29639  ,   31457  ,   11  ,   386  ,   3903  ,   291  ,   498  ,   330  ,   17  ,   6771  ,   2203  ,   29639  ,   47814  ,   15895  ,   498  ,   330  ,   18  ,   85388  ,   95825  ,   11  ,   3468  ,   2041  ,   498  ,   330  ,   18  ,   6771  ,   2203  ,   29639  ,   423  ,   4588  ,   53811  ,   3258  ,   3061  ,   2094  ,   498  ,   330  ,   18  ,   14  ,   19  ,   26446  ,   56744  ,   63524  ,   45419  ,   11  ,   2895  ,   660  ,   11  ,   8940  ,   4591  ,   498  ,   330  ,   16  ,   14  ,   17  ,   26446  ,   6178  ,   96982  ,   45419  ,   11  ,   1443  ,   33874  ,   291  ,   8073  ,   330  ,   19612  ,   82  ,   794  ,   4482  ,   8238  ,   31452  ,   4184  ,   311  ,   18445  ,   13  ,   4740  ,   433  ,   706  ,   41482  ,   11157  ,   11  ,   2543  ,   704  ,   389  ,   264  ,   1344  ,   21020  ,   7479  ,   323  ,   6638  ,   704  ,   13  ,   1442  ,   499  ,   527  ,   1701  ,   6954  ,   1037  ,   31452  ,   11  ,   3136  ,   1618  ,   11  ,   20223  ,   477  ,   6958  ,   1022  ,   220  ,   16  ,   25224  ,   9863  ,   323  ,   6638  ,   1139  ,   220  ,   16  ,   25224  ,   20953  ,   13  ,   2638  ,   16038  ,   10684  ,   330  ,   64505  ,   352  ,   1403  ,   220  ,   717  ,   10747  ,   55404  ,   258  ,   259  ,   1354  ,   449  ,   17677  ,   23749  ,   13  ,   2638  ,   16038  ,   10684  ,   330  ,   33336  ,   704  ,   220  ,   16  ,   14  ,   19  ,   10747  ,   1370  ,   9004  ,   276  ,   17604  ,   323  ,   743  ,   16038  ,   369  ,   51798  ,   2785  ,   498  ,   330  ,   644  ,   264  ,   3544  ,   19763  ,   11  ,   16343  ,   279  ,   50459  ,   14432  ,   11  ,   5707  ,   11  ,   31735  ,   11  ,   88621  ,   11  ,   323  ,   9861  ,   220  ,   16  ,   14  ,   17  ,   10747  ,   56744  ,   63524  ,   17604  ,   13  ,   11004  ,   220  ,   18  ,   31452  ,   9863  ,   1139  ,   279  ,   31735  ,   21655  ,   323  ,   23724  ,   449  ,   279  ,   6651  ,   13  ,   11004  ,   279  ,   220  ,   18  ,   49482  ,   6638  ,   9863  ,   1139  ,   220  ,   16  ,   55404  ,   258  ,   25826  ,   13  ,   45901  ,   279  ,   1920  ,   3156  ,   682  ,   220  ,   1187  ,   55404  ,   258  ,   259  ,   1354  ,   527  ,   2539  ,   13  ,   15883  ,   36244  ,   682  ,   279  ,   28473  ,   449  ,   279  ,   4694  ,   56744  ,   63524  ,   17604  ,   323  ,   4647  ,   96982  ,   10684  ,   330  ,   33  ,   731  ,   1855  ,   55404  ,   258  ,   25826  ,   389  ,   264  ,   12829  ,   11071  ,   520  ,   220  ,   3443  ,   3855  ,   410  ,   65  ,   15  ,   37  ,   369  ,   220  ,   717  ,   12  ,   975  ,   4520  ,   477  ,   3156  ,   28473  ,   527  ,   21411  ,   14198  ,   13  ,   54032  ,   8369  ,   1210  ,   14316  ,   100265  ,   100264  ,   5018  ,   1215  ,   794  ,   4482  ,   36129  ,   498  ,   330  ,   797  ,   5981  ,   498  ,   330  ,   23182  ,   498  ,   330  ,   375  ,   7067  ,   498  ,   330  ,   43326  ,   498  ,   330  ,   54  ,   16716  ,   12855  ,   35548  ,   19737  ,   498  ,   330  ,   1993  ,   25309  ,   498  ,   330  ,   74  ,   91997  ,   498  ,   330  ,   65561  ,   13465  ,   8073  ,   330  ,   2150  ,   794  ,   330  ,   35  ,   14390  ,   8325  ,   45965  ,   385  ,   2642  ,   498  ,   330  ,   39220  ,   794  ,   4482  ,   16  ,   10747  ,   86666  ,   498  ,   330  ,   17  ,   19335  ,   498  ,   330  ,   16  ,   24149  ,   11  ,   83612  ,   323  ,   89964  ,   498  ,   330  ,   972  ,   42384  ,   25349  ,   498  ,   330  ,   717  ,   42384  ,   12290  ,   498  ,   330  ,   16  ,   42384  ,   74288  ,   12855  ,   35548  ,   19737  ,   498  ,   330  ,   16  ,   220  ,   717  ,   29160  ,   5015  ,   25309  ,   498  ,   330  ,   17  ,   56588  ,   597  ,   91997  ,   498  ,   330  ,   17  ,   56588  ,   14198  ,   13465  ,   8073  ,   330  ,   19612  ,   82  ,   794  ,   4482  ,   4808  ,   20559  ,   279  ,   24276  ,   311  ,   220  ,   8652  ,   10684  ,   330  ,   59183  ,   279  ,   1176  ,   4848  ,   14293  ,   304  ,   264  ,   3544  ,   27890  ,   19763  ,   10684  ,   330  ,   2261  ,   279  ,   13339  ,   323  ,   6651  ,   1664  ,   10684  ,   330  ,   12581  ,   1139  ,   264  ,   77248  ,   7363  ,   10684  ,   330  ,   59183  ,   61376  ,   14293  ,   323  ,   9041  ,   389  ,   1948  ,   315  ,   13339  ,   385  ,   2642  ,   10684  ,   330  ,   33  ,   731  ,   520  ,   220  ,   8652  ,   369  ,   220  ,   2031  ,   4520  ,   1210  ,   14316  ,   100265  ,   100264  ,   5018  ,   1215  ,   794  ,   4482  ,   29353  ,   498  ,   330  ,   14404  ,   32019  ,   498  ,   330  ,   60890  ,   5837  ,   31722  ,   498  ,   330  ,   4071  ,   466  ,   498  ,   330  ,   3968  ,   414  ,   498  ,   330  ,   36  ,   14736  ,   498  ,   330  ,   44  ,   34263  ,   8073  ,   330  ,   2150  ,   794  ,   330  ,   60890  ,   5837  ,   31722  ,   65082  ,   81402  ,   498  ,   330  ,   39220  ,   794  ,   4482  ,   16  ,   12  ,   16  ,   14  ,   17  ,   10747  ,   10164  ,   498  ,   330  ,   16  ,   14  ,   17  ,   26446  ,   5929  ,   32019  ,   498  ,   330  ,   17  ,   6771  ,   2203  ,   29639  ,   18288  ,   5837  ,   31722  ,   498  ,   330  ,   17  ,   6771  ,   2203  ,   29639  ,   31457  ,   498  ,   330  ,   16  ,   10747  ,   10323  ,   59401  ,   3876  ,   90128  ,   320  ,   269  ,   2052  ,   30145  ,   90128  ,   3161  ,   220  ,   16  ,   14  ,   17  ,   2722  ,   300  ,   33076  ,   426  ,   1802  ,   44756  ,   11844  ,   330  ,   16  ,   4459  ,   42313  ,   498  ,   330  ,   16  ,   42384  ,   2582  ,   4497  ,   44925  ,   320  ,   300  ,   57661  ,   2057  ,   11736  ,   90395  ,   50942  ,   89161  ,   7440  ,   48194  ,   8  ,   8073  ,   330  ,   19612  ,   82  ,   794  ,   4482  ,   19648  ,   3090  ,   11  ,   13465  ,   11  ,   45322  ,   323  ,   4376  ,   315  ,   279  ,   14432  ,   1139  ,   264  ,   3544  ,   19737  ,   857  ,   11  ,   323  ,   4546  ,   311  ,   264  ,   11295  ,   44790  ,   10684  ,   330  ,   8142  ,   24494  ,   279  ,   45322  ,   21655  ,   11  ,   10485  ,   279  ,   9861  ,   14432  ,   1139  ,   279  ,   20415  ,   11  ,   923  ,   304  ,   279  ,   19151  ,   323  ,   6651  ,   320  ,   50998  ,   555  ,   1450  ,   477  ,   449  ,   264  ,   38878  ,   8  ,   311  ,   1376  ,   264  ,   274  ,   59182  ,   12970  ,   31452  ,   13  ,   1442  ,   279  ,   21655  ,   374  ,   2288  ,   7626  ,   477  ,   9235  ,   11  ,   6651  ,   304  ,   1063  ,   14403  ,   11  ,   264  ,   2478  ,   21701  ,   520  ,   264  ,   892  ,   11  ,   3156  ,   279  ,   31452  ,   25501  ,   12974  ,   320  ,   82  ,   59182  ,   12970  ,   8  ,   29237  ,   10684  ,   330  ,   12805  ,   279  ,   45322  ,   4131  ,   311  ,   279  ,   44790  ,   11  ,   1376  ,   279  ,   31452  ,   1139  ,   19665  ,   68302  ,   30387  ,   20953  ,   11  ,   323  ,   6068  ,   1124  ,   1139  ,   279  ,   50937  ,   45322  ,   13  ,   15028  ,   279  ,   20953  ,   927  ,   449  ,   264  ,   46605  ,   1475  ,   779  ,   3629  ,   11  ,   311  ,   6106  ,   814  ,   4394  ,   42147  ,   389  ,   682  ,   11314  ,   13  ,   578  ,   63811  ,   81402  ,   690  ,   78353  ,   323  ,   279  ,   45322  ,   690  ,   3719  ,   10284  ,   40130  ,   7119  ,   279  ,   842  ,   315  ,   17677  ,   892  ,   13  ,   320  ,   14581  ,   1124  ,   15870  ,   311  ,   6106  ,   279  ,   21655  ,   3250  ,   956  ,   636  ,   2288  ,   4106  ,   323  ,   8395  ,   0  ,   11844  ,   330  ,   38766  ,   264  ,   63811  ,   12127  ,   449  ,   279  ,   46605  ,   311  ,   6106  ,   433  ,   374  ,   29921  ,   30205  ,   1555  ,   11  ,   539  ,   31452  ,   88  ,   477  ,   2653  ,   304  ,   279  ,   6278  ,   13  ,   3277  ,   2884  ,   11  ,   8854  ,   304  ,   61080  ,   449  ,   279  ,   45322  ,   46605  ,   291  ,   927  ,   279  ,   1948  ,   13  ,   2999  ,   44237  ,   449  ,   14403  ,   477  ,   12932  ,   11  ,   323  ,   4224  ,   50428  ,   1523  ,   311  ,   4774  ,   420  ,   12688  ,   6981  ,   3691  ,   0  ,   93546  ,   100265  ,   100264  ,   5018  ,   1215  ,   794  ,   4482  ,   21435  ,   55575  ,   498  ,   330  ,   82  ,   8734  ,   498  ,   330  ,   16023  ,   6374  ,   8073  ,   330  ,   2150  ,   794  ,   330  ,   92418  ,   66682  ,   95671  ,   5757  ,   20534  ,   30800  ,   320  ,   25162  ,   26417  ,   11844  ,   330  ,   39220  ,   794  ,   4482  ,   17  ,   26446  ,   14733  ,   55575  ,   11  ,   61508  ,   498  ,   330  ,   16  ,   14  ,   17  ,   10747  ,   13465  ,   498  ,   330  ,   17  ,   93200  ,   33165  ,   8819  ,   8073  ,   330  ,   19612  ,   82  ,   794  ,   4482  ,   9023  ,   467  ,   55575  ,   4184  ,   311  ,   11470  ,   13  ,   1115  ,   649  ,   1935  ,   709  ,   311  ,   220  ,   18  ,   4207  ,   369  ,   264  ,   11298  ,   12314  ,   55575  ,   13  ,   320  ,   6766  ,   279  ,   73779  ,   67849  ,   1198  ,   814  ,   649  ,   387  ,   1511  ,   369  ,   17677  ,   20228  ,   570  ,   498  ,   330  ,   82214  ,   2800  ,   315  , ]\n",
      "[  <|recipe_start|>  ,   {\"  ,   ner  ,   \":  ,    [\"  ,   Version  ,   \",  ,    \"  ,   But  ,   ter  ,   \",  ,    \"  ,   O  ,   live  ,    Oil  ,   \",  ,    \"  ,   Gar  ,   lic  ,   \",  ,    \"  ,   P  ,   ars  ,   ley  ,    Fl  ,   akes  ,   \",  ,    \"  ,   Parm  ,   esan  ,    Cheese  ,   \",  ,    \"  ,   M  ,   oz  ,   z  ,   arella  ,    Cheese  ,   \"],  ,    \"  ,   title  ,   \":  ,    \"  ,   Soft  ,    Bubble  ,    Che  ,   esy  ,    Garlic  ,    M  ,   uff  ,   ins  ,   \",  ,    \"  ,   ingredients  ,   \":  ,    [\"  ,   1  ,    whole  ,    Recipe  ,    For  ,    Pizza  ,    Dough  ,    (  ,   I  ,    Use  ,    My  ,    Fail  ,    Proof  ,    Version  ,    In  ,    My  ,    Recipe  ,    Box  ,   )\",  ,    \"  ,   8  ,    Table  ,   sp  ,   oons  ,    Butter  ,   ,  ,    M  ,   elt  ,   ed  ,   \",  ,    \"  ,   2  ,    Table  ,   sp  ,   oons  ,    Olive  ,    Oil  ,   \",  ,    \"  ,   3  ,    cloves  ,    Garlic  ,   ,  ,    Min  ,   ced  ,   \",  ,    \"  ,   3  ,    Table  ,   sp  ,   oons  ,    D  ,   ried  ,    Pars  ,   ley  ,    Fl  ,   akes  ,   \",  ,    \"  ,   3  ,   /  ,   4  ,    cups  ,    Parm  ,   esan  ,    Cheese  ,   ,  ,    Gr  ,   ated  ,   ,  ,    Div  ,   ided  ,   \",  ,    \"  ,   1  ,   /  ,   2  ,    cups  ,    Mo  ,   zzarella  ,    Cheese  ,   ,  ,    Sh  ,   redd  ,   ed  ,   \"],  ,    \"  ,   direction  ,   s  ,   \":  ,    [\"  ,   Make  ,    dough  ,    according  ,    to  ,    directions  ,   .  ,    After  ,    it  ,    has  ,    risen  ,    twice  ,   ,  ,    turn  ,    out  ,    on  ,    a  ,    fl  ,   oured  ,    surface  ,    and  ,    roll  ,    out  ,   .  ,    If  ,    you  ,    are  ,    using  ,    prem  ,   ade  ,    dough  ,   ,  ,    continue  ,    here  ,   ,  ,    Cut  ,    or  ,    pull  ,    off  ,      ,   1  ,   -inch  ,    pieces  ,    and  ,    roll  ,    into  ,      ,   1  ,   -inch  ,    balls  ,   .  ,    Set  ,    aside  ,   .\",  ,    \"  ,   Spr  ,   ay  ,    two  ,      ,   12  ,    cup  ,    muff  ,   in  ,    t  ,   ins  ,    with  ,    cooking  ,    spray  ,   .  ,    Set  ,    aside  ,   .\",  ,    \"  ,   Measure  ,    out  ,      ,   1  ,   /  ,   4  ,    cup  ,    par  ,   mes  ,   an  ,    cheese  ,    and  ,    set  ,    aside  ,    for  ,    sprink  ,   ling  ,   \",  ,    \"  ,   In  ,    a  ,    large  ,    bowl  ,   ,  ,    combine  ,    the  ,    melted  ,    butter  ,   ,  ,    oil  ,   ,  ,    garlic  ,   ,  ,    parsley  ,   ,  ,    and  ,    remaining  ,      ,   1  ,   /  ,   2  ,    cup  ,    Parm  ,   esan  ,    cheese  ,   .  ,    Place  ,      ,   3  ,    dough  ,    pieces  ,    into  ,    the  ,    garlic  ,    mixture  ,    and  ,    coat  ,    with  ,    the  ,    mix  ,   .  ,    Place  ,    the  ,      ,   3  ,    coated  ,    roll  ,    pieces  ,    into  ,      ,   1  ,    muff  ,   in  ,    tin  ,   .  ,    Repeat  ,    the  ,    process  ,    until  ,    all  ,      ,   24  ,    muff  ,   in  ,    t  ,   ins  ,    are  ,    full  ,   .  ,    Spr  ,   inkle  ,    all  ,    the  ,    rolls  ,    with  ,    the  ,    reserved  ,    Parm  ,   esan  ,    cheese  ,    and  ,    mo  ,   zzarella  ,   .\",  ,    \"  ,   B  ,   ake  ,    each  ,    muff  ,   in  ,    tin  ,    on  ,    a  ,    cookie  ,    sheet  ,    at  ,      ,   400  ,   \\u  ,   00  ,   b  ,   0  ,   F  ,    for  ,      ,   12  ,   -  ,   14  ,    minutes  ,    or  ,    until  ,    rolls  ,    are  ,    golden  ,    brown  ,   .  ,    Serve  ,    warm  ,   .\"  ,   ]}  ,   <|recipe_end|>  ,   <|recipe_start|>  ,   {\"  ,   ner  ,   \":  ,    [\"  ,   breadcrumbs  ,   \",  ,    \"  ,   eg  ,   gs  ,   \",  ,    \"  ,   apple  ,   \",  ,    \"  ,   pe  ,   pper  ,   \",  ,    \"  ,   salt  ,   \",  ,    \"  ,   W  ,   orce  ,   sters  ,   hire  ,    sauce  ,   \",  ,    \"  ,   ground  ,    beef  ,   \",  ,    \"  ,   k  ,   etchup  ,   \",  ,    \"  ,   brown  ,    sugar  ,   \"],  ,    \"  ,   title  ,   \":  ,    \"  ,   D  ,   utch  ,    Apple  ,    Meat  ,   lo  ,   af  ,   \",  ,    \"  ,   ingredients  ,   \":  ,    [\"  ,   1  ,    cup  ,    breadcrumbs  ,   \",  ,    \"  ,   2  ,    eggs  ,   \",  ,    \"  ,   1  ,    apple  ,   ,  ,    peeled  ,    and  ,    diced  ,   \",  ,    \"  ,   18  ,    teaspoon  ,    pepper  ,   \",  ,    \"  ,   12  ,    teaspoon  ,    salt  ,   \",  ,    \"  ,   1  ,    teaspoon  ,    Worce  ,   sters  ,   hire  ,    sauce  ,   \",  ,    \"  ,   1  ,      ,   12  ,    lbs  ,    ground  ,    beef  ,   \",  ,    \"  ,   2  ,    tablespoons  ,    k  ,   etchup  ,   \",  ,    \"  ,   2  ,    tablespoons  ,    brown  ,    sugar  ,   \"],  ,    \"  ,   direction  ,   s  ,   \":  ,    [\"  ,   Pre  ,   heat  ,    the  ,    oven  ,    to  ,      ,   350  ,   .\",  ,    \"  ,   Mix  ,    the  ,    first  ,    six  ,    ingredients  ,    in  ,    a  ,    large  ,    mixing  ,    bowl  ,   .\",  ,    \"  ,   Add  ,    the  ,    meat  ,    and  ,    mix  ,    well  ,   .\",  ,    \"  ,   Shape  ,    into  ,    a  ,    loaf  ,    pan  ,   .\",  ,    \"  ,   Mix  ,    topping  ,    ingredients  ,    and  ,    spread  ,    on  ,    top  ,    of  ,    meat  ,   lo  ,   af  ,   .\",  ,    \"  ,   B  ,   ake  ,    at  ,      ,   350  ,    for  ,      ,   70  ,    minutes  ,   .\"  ,   ]}  ,   <|recipe_end|>  ,   <|recipe_start|>  ,   {\"  ,   ner  ,   \":  ,    [\"  ,   Water  ,   \",  ,    \"  ,   White  ,    Sugar  ,   \",  ,    \"  ,   Golden  ,    Sy  ,   rup  ,   \",  ,    \"  ,   But  ,   ter  ,   \",  ,    \"  ,   Fl  ,   our  ,   \",  ,    \"  ,   E  ,   gg  ,   \",  ,    \"  ,   M  ,   ilk  ,   \"],  ,    \"  ,   title  ,   \":  ,    \"  ,   Golden  ,    Sy  ,   rup  ,    Dum  ,   plings  ,   \",  ,    \"  ,   ingredients  ,   \":  ,    [\"  ,   1  ,   -  ,   1  ,   /  ,   2  ,    cup  ,    Water  ,   \",  ,    \"  ,   1  ,   /  ,   2  ,    cups  ,    White  ,    Sugar  ,   \",  ,    \"  ,   2  ,    Table  ,   sp  ,   oons  ,    Golden  ,    Sy  ,   rup  ,   \",  ,    \"  ,   2  ,    Table  ,   sp  ,   oons  ,    Butter  ,   \",  ,    \"  ,   1  ,    cup  ,    Self  ,   -ra  ,   ising  ,    Flour  ,    (  ,   or  ,    All  ,    Purpose  ,    Flour  ,    With  ,      ,   1  ,   /  ,   2  ,    Te  ,   as  ,   poon  ,    B  ,   aking  ,    Powder  ,   )\",  ,    \"  ,   1  ,    whole  ,    Egg  ,   \",  ,    \"  ,   1  ,    teaspoon  ,    Or  ,    More  ,    Milk  ,    (  ,   as  ,    Needed  ,    To  ,    Help  ,    Dough  ,    Reach  ,    Desired  ,    Cons  ,   istency  ,   )  ,   \"],  ,    \"  ,   direction  ,   s  ,   \":  ,    [\"  ,   Put  ,    water  ,   ,  ,    sugar  ,   ,  ,    syrup  ,    and  ,    half  ,    of  ,    the  ,    butter  ,    into  ,    a  ,    large  ,    sauce  ,   pan  ,   ,  ,    and  ,    bring  ,    to  ,    a  ,    rapid  ,    boil  ,   .\",  ,    \"  ,   While  ,    heating  ,    the  ,    syrup  ,    mixture  ,   ,  ,    rub  ,    the  ,    remaining  ,    butter  ,    into  ,    the  ,    flour  ,   ,  ,    add  ,    in  ,    the  ,    egg  ,    and  ,    mix  ,    (  ,   either  ,    by  ,    hand  ,    or  ,    with  ,    a  ,    mixer  ,   )  ,    to  ,    form  ,    a  ,    s  ,   cone  ,   -like  ,    dough  ,   .  ,    If  ,    the  ,    mixture  ,    is  ,    too  ,    firm  ,    or  ,    dry  ,   ,  ,    mix  ,    in  ,    some  ,    milk  ,   ,  ,    a  ,    few  ,    drops  ,    at  ,    a  ,    time  ,   ,  ,    until  ,    the  ,    dough  ,    reaches  ,    desired  ,    (  ,   s  ,   cone  ,   -like  ,   )  ,    consistency  ,   .\",  ,    \"  ,   Once  ,    the  ,    syrup  ,    comes  ,    to  ,    the  ,    boil  ,   ,  ,    form  ,    the  ,    dough  ,    into  ,    golf  ,   -ball  ,    sized  ,    balls  ,   ,  ,    and  ,    drop  ,    them  ,    into  ,    the  ,    boiling  ,    syrup  ,   .  ,    Roll  ,    the  ,    balls  ,    over  ,    with  ,    a  ,    spoon  ,    every  ,    so  ,    often  ,   ,  ,    to  ,    ensure  ,    they  ,    cook  ,    evenly  ,    on  ,    all  ,    sides  ,   .  ,    The  ,    dum  ,   plings  ,    will  ,    swell  ,    and  ,    the  ,    syrup  ,    will  ,    become  ,    slightly  ,    darker  ,    towards  ,    the  ,    end  ,    of  ,    cooking  ,    time  ,   .  ,    (  ,   Watch  ,    them  ,    regularly  ,    to  ,    ensure  ,    the  ,    mixture  ,    doesn  ,   't  ,    get  ,    too  ,    hot  ,    and  ,    burn  ,   !  ,   )\",  ,    \"  ,   Cut  ,    a  ,    dum  ,   pling  ,    with  ,    the  ,    spoon  ,    to  ,    ensure  ,    it  ,    is  ,    nicely  ,    cooked  ,    through  ,   ,  ,    not  ,    dough  ,   y  ,    or  ,    hard  ,    in  ,    the  ,    middle  ,   .  ,    When  ,    done  ,   ,  ,    serve  ,    in  ,    bowls  ,    with  ,    the  ,    syrup  ,    spoon  ,   ed  ,    over  ,    the  ,    top  ,   .  ,    Dr  ,   izzle  ,    with  ,    milk  ,    or  ,    cream  ,   ,  ,    and  ,    sn  ,   uggle  ,    down  ,    to  ,    enjoy  ,    this  ,    winter  ,    comfort  ,    food  ,   !  ,   \"]}  ,   <|recipe_end|>  ,   <|recipe_start|>  ,   {\"  ,   ner  ,   \":  ,    [\"  ,   plain  ,    yogurt  ,   \",  ,    \"  ,   s  ,   ugar  ,   \",  ,    \"  ,   van  ,   illa  ,   \"],  ,    \"  ,   title  ,   \":  ,    \"  ,   Frozen  ,    Vanilla  ,    Yog  ,   urt  ,    Ice  ,    Cream  ,    (  ,   Low  ,    Fat  ,   )\",  ,    \"  ,   ingredients  ,   \":  ,    [\"  ,   2  ,    cups  ,    plain  ,    yogurt  ,   ,  ,    drained  ,   \",  ,    \"  ,   1  ,   /  ,   2  ,    cup  ,    sugar  ,   \",  ,    \"  ,   2  ,    teaspoons  ,    vanilla  ,    extract  ,   \"],  ,    \"  ,   direction  ,   s  ,   \":  ,    [\"  ,   Dr  ,   ain  ,    yogurt  ,    according  ,    to  ,    instructions  ,   .  ,    This  ,    can  ,    take  ,    up  ,    to  ,      ,   3  ,    hours  ,    for  ,    a  ,    medium  ,    thick  ,    yogurt  ,   .  ,    (  ,   save  ,    the  ,    strained  ,    liquids  ,    --  ,    they  ,    can  ,    be  ,    used  ,    for  ,    cooking  ,    rice  ,   ).  ,   \",  ,    \"  ,   Combine  ,    rest  ,    of  , ]\n"
     ]
    }
   ],
   "source": [
    "cl100k_base = tiktoken.get_encoding(\"cl100k_base\")\n",
    "enc = tiktoken.Encoding(\n",
    "    name=\"cl100k_im\",\n",
    "    pat_str=cl100k_base._pat_str,\n",
    "    mergeable_ranks=cl100k_base._mergeable_ranks,\n",
    "    special_tokens={\n",
    "        **cl100k_base._special_tokens,\n",
    "        START_OF_RECIPE: 100264,\n",
    "        END_OF_RECIPE: 100265,\n",
    "    }\n",
    ")\n",
    "\n",
    "encoded_recipes = np.array([], dtype=np.int64)\n",
    "for recipe in stringified_recipes:\n",
    "    encoded_recipe = enc.encode(recipe, allowed_special=\"all\")\n",
    "    encoded_recipes = np.append(encoded_recipes, encoded_recipe)\n",
    "\n",
    "VOCAB_SIZE = len(set(encoded_recipes))\n",
    "\n",
    "print(type(encoded_recipes), encoded_recipes.shape)\n",
    "\n",
    "print(\"[\", end='')\n",
    "for token in encoded_recipes[:1000]:\n",
    "    print(f\"  {token}  , \", end='')\n",
    "print(\"]\")\n",
    "\n",
    "\n",
    "print(\"[\", end='')\n",
    "for token in encoded_recipes[:1000]:\n",
    "    print(f\"  {enc.decode([token])}  , \", end='')\n",
    "print(\"]\")\n"
   ]
  },
  {
   "cell_type": "code",
   "execution_count": 7,
   "metadata": {},
   "outputs": [],
   "source": [
    "TRAIN_VAL_SPLIT = 0.9 # 90% training, 10% validation\n",
    "\n",
    "n = int(TRAIN_VAL_SPLIT * len(encoded_recipes))\n",
    "training_data = encoded_recipes[:n]\n",
    "validation_data = encoded_recipes[n:]\n",
    "\n",
    "CONTEXT_SIZE = 5\n",
    "\n",
    "def get_batch(split):\n",
    "    data = training_data if split == \"train\" else validation_data\n",
    "    start_i = np.random.randint(len(data) - CONTEXT_SIZE) \n",
    "\n",
    "    X = data[start_i:start_i+CONTEXT_SIZE]\n",
    "    y = data[start_i+1:start_i+CONTEXT_SIZE+1]\n",
    "\n",
    "    return X, y"
   ]
  },
  {
   "cell_type": "code",
   "execution_count": 8,
   "metadata": {},
   "outputs": [
    {
     "name": "stdout",
     "output_type": "stream",
     "text": [
      "[5061 5061 5061  220   16]\n",
      "[5061 5061  220   16   14]\n",
      "with context=[5061] the target is 5061\n",
      "with context=[5061, 5061] the target is 5061\n",
      "with context=[5061, 5061, 5061] the target is 220\n",
      "with context=[5061, 5061, 5061, 220] the target is 16\n",
      "with context=[5061, 5061, 5061, 220, 16] the target is 14\n"
     ]
    }
   ],
   "source": [
    "Xb, yb = get_batch(\"train\")\n",
    "print(Xb)\n",
    "print(yb)\n",
    "\n",
    "for c in range(CONTEXT_SIZE):\n",
    "    context = Xb[:c+1]\n",
    "    target = yb[c]\n",
    "    print(f\"with context={context.tolist()} the target is {target}\")"
   ]
  },
  {
   "cell_type": "code",
   "execution_count": null,
   "metadata": {},
   "outputs": [],
   "source": []
  }
 ],
 "metadata": {
  "kernelspec": {
   "display_name": "ann_env",
   "language": "python",
   "name": "python3"
  },
  "language_info": {
   "codemirror_mode": {
    "name": "ipython",
    "version": 3
   },
   "file_extension": ".py",
   "mimetype": "text/x-python",
   "name": "python",
   "nbconvert_exporter": "python",
   "pygments_lexer": "ipython3",
   "version": "3.11.7"
  }
 },
 "nbformat": 4,
 "nbformat_minor": 2
}
